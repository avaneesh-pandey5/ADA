{
 "cells": [
  {
   "attachments": {},
   "cell_type": "markdown",
   "metadata": {},
   "source": [
    "# **Week 3 Q1**\n",
    "____\n",
    "Implement the strassen’s multiplication method (using Divide and Conquer Strategy) and \n",
    "naive multiplication method. Compare these methods in terms of time taken using the nXn \n",
    "matrix where n=3, 4, 5, 6, 7 and 8 (compare in bar graph).\n",
    "_____"
   ]
  },
  {
   "attachments": {},
   "cell_type": "markdown",
   "metadata": {},
   "source": [
    "### **STRASSEN'S MATRIX MULTIPLICATION vs NAIVE MATRIX MULTIPLICATION**"
   ]
  },
  {
   "attachments": {},
   "cell_type": "markdown",
   "metadata": {},
   "source": [
    "#### **Description**\n",
    "\n",
    "**Naive Matrix Multiplication**\n",
    "- Recureance relation is $$ T(n) = 8T (n/2) + n^2 $$\n",
    "- Takes $O(n^3)$ time, where $n$ is the size of the matrix\n",
    "\n",
    "**Strassen's Matrix Multiplication**\n",
    "- Recureance relation is $$ T(n) = 7T (n/2) + n^2 $$\n",
    "- Takes O(n ^ (2.81))"
   ]
  },
  {
   "attachments": {},
   "cell_type": "markdown",
   "metadata": {},
   "source": [
    "##### Importing all the modules redquired"
   ]
  },
  {
   "cell_type": "code",
   "execution_count": 119,
   "metadata": {},
   "outputs": [],
   "source": [
    "from time import time\n",
    "import numpy as np\n",
    "import pandas as pd\n",
    "import matplotlib.pyplot as plt"
   ]
  },
  {
   "attachments": {},
   "cell_type": "markdown",
   "metadata": {},
   "source": [
    "> #### **Strassen's Matrix Multiplication Method**\n",
    "---"
   ]
  },
  {
   "cell_type": "code",
   "execution_count": 120,
   "metadata": {},
   "outputs": [],
   "source": [
    "\n",
    "def strassen_algorithm(x, y):\n",
    "    if x.size == 1 or y.size == 1:\n",
    "        return x * y\n",
    "\n",
    "    n = x.shape[0]\n",
    "\n",
    "    if n % 2 == 1:\n",
    "        x = np.pad(x, (0, 1), mode='constant')\n",
    "        y = np.pad(y, (0, 1), mode='constant')\n",
    "\n",
    "    m = int(np.ceil(n / 2))\n",
    "    a = x[: m, : m]\n",
    "    b = x[: m, m:]\n",
    "    c = x[m:, : m]\n",
    "    d = x[m:, m:]\n",
    "    e = y[: m, : m]\n",
    "    f = y[: m, m:]\n",
    "    g = y[m:, : m]\n",
    "    h = y[m:, m:]\n",
    "    p1 = strassen_algorithm(a, f - h)\n",
    "    p2 = strassen_algorithm(a + b, h)\n",
    "    p3 = strassen_algorithm(c + d, e)\n",
    "    p4 = strassen_algorithm(d, g - e)\n",
    "    p5 = strassen_algorithm(a + d, e + h)\n",
    "    p6 = strassen_algorithm(b - d, g + h)\n",
    "    p7 = strassen_algorithm(a - c, e + f)\n",
    "    result = np.zeros((2 * m, 2 * m), dtype=np.int32)\n",
    "    result[: m, : m] = p5 + p4 - p2 + p6\n",
    "    result[: m, m:] = p1 + p2\n",
    "    result[m:, : m] = p3 + p4\n",
    "    result[m:, m:] = p1 + p5 - p3 - p7\n",
    "\n",
    "    return result[: n, : n]"
   ]
  },
  {
   "attachments": {},
   "cell_type": "markdown",
   "metadata": {},
   "source": [
    "> #### **Naive Matrix Multiplication Method**\n",
    "---"
   ]
  },
  {
   "cell_type": "code",
   "execution_count": 121,
   "metadata": {},
   "outputs": [],
   "source": [
    "def product_of_matrix(matrixA,matrixB):\n",
    "    product_matrix=[]\n",
    "    product_col=[]\n",
    "    no_of_rowA=matrixA.shape[0]\n",
    "    no_of_colA=matrixA.shape[1]\n",
    "    no_of_rowB=matrixB.shape[0]\n",
    "    no_of_colB=matrixB.shape[1]\n",
    "    \n",
    "    val=0\n",
    "    for i in range(no_of_rowA):\n",
    "        for j in range(no_of_colB):\n",
    "            for k in range(no_of_colA):\n",
    "                val=val+(matrixA[i][k]*matrixB[k][j])\n",
    "            product_col.append(val)\n",
    "            val=0\n",
    "        product_matrix.append(product_col)\n",
    "        product_col=[]\n",
    "        \n",
    "    return product_matrix"
   ]
  },
  {
   "attachments": {},
   "cell_type": "markdown",
   "metadata": {},
   "source": [
    "Creating Arrays for storing the time taken by each method for N x N matrices, where N ranges from 1 to 50 (inclusive)"
   ]
  },
  {
   "cell_type": "code",
   "execution_count": 122,
   "metadata": {},
   "outputs": [],
   "source": [
    "strassen = []\n",
    "naive = []"
   ]
  },
  {
   "cell_type": "code",
   "execution_count": 123,
   "metadata": {},
   "outputs": [],
   "source": [
    "for i in range(1,51):\n",
    "    arr1 = np.random.randint(1,1000,(i,i))\n",
    "    arr2 = np.random.randint(1,1000,(i,i))\n",
    "    tok = time()\n",
    "    strassen_algorithm(arr1,arr2)\n",
    "    tik = time()\n",
    "    strassen.append((tik-tok))\n"
   ]
  },
  {
   "cell_type": "code",
   "execution_count": 124,
   "metadata": {},
   "outputs": [],
   "source": [
    "for i in range(1,51):\n",
    "\n",
    "    arr1 = np.random.randint(1,1000,(i,i))\n",
    "    arr2 = np.random.randint(1,1000,(i,i))\n",
    "    tok = time()\n",
    "    for m in range(10):\n",
    "        product_of_matrix(arr1,arr2)\n",
    "    tik = time()\n",
    "    naive.append((tik-tok)/10)"
   ]
  },
  {
   "cell_type": "code",
   "execution_count": 125,
   "metadata": {},
   "outputs": [],
   "source": [
    "strassen = np.array(strassen)\n",
    "naive = np.array(naive)"
   ]
  },
  {
   "attachments": {},
   "cell_type": "markdown",
   "metadata": {},
   "source": [
    "Creating A DataFrame using Pandas for Plotting"
   ]
  },
  {
   "cell_type": "code",
   "execution_count": 126,
   "metadata": {},
   "outputs": [],
   "source": [
    "my_arr = np.array([strassen*1000,naive*1000]).transpose()\n",
    "my_index = np.arange(1,51)\n",
    "my_col = np.array([\"Strassen\",\"Naive\"])"
   ]
  },
  {
   "cell_type": "code",
   "execution_count": 127,
   "metadata": {},
   "outputs": [
    {
     "data": {
      "text/html": [
       "<div>\n",
       "<style scoped>\n",
       "    .dataframe tbody tr th:only-of-type {\n",
       "        vertical-align: middle;\n",
       "    }\n",
       "\n",
       "    .dataframe tbody tr th {\n",
       "        vertical-align: top;\n",
       "    }\n",
       "\n",
       "    .dataframe thead th {\n",
       "        text-align: right;\n",
       "    }\n",
       "</style>\n",
       "<table border=\"1\" class=\"dataframe\">\n",
       "  <thead>\n",
       "    <tr style=\"text-align: right;\">\n",
       "      <th></th>\n",
       "      <th>Strassen</th>\n",
       "      <th>Naive</th>\n",
       "    </tr>\n",
       "  </thead>\n",
       "  <tbody>\n",
       "    <tr>\n",
       "      <th>1</th>\n",
       "      <td>0.000000</td>\n",
       "      <td>0.000000</td>\n",
       "    </tr>\n",
       "    <tr>\n",
       "      <th>2</th>\n",
       "      <td>0.000000</td>\n",
       "      <td>0.000000</td>\n",
       "    </tr>\n",
       "    <tr>\n",
       "      <th>3</th>\n",
       "      <td>1.935720</td>\n",
       "      <td>0.000000</td>\n",
       "    </tr>\n",
       "    <tr>\n",
       "      <th>4</th>\n",
       "      <td>0.000000</td>\n",
       "      <td>0.100875</td>\n",
       "    </tr>\n",
       "    <tr>\n",
       "      <th>5</th>\n",
       "      <td>2.002001</td>\n",
       "      <td>0.000000</td>\n",
       "    </tr>\n",
       "  </tbody>\n",
       "</table>\n",
       "</div>"
      ],
      "text/plain": [
       "   Strassen     Naive\n",
       "1  0.000000  0.000000\n",
       "2  0.000000  0.000000\n",
       "3  1.935720  0.000000\n",
       "4  0.000000  0.100875\n",
       "5  2.002001  0.000000"
      ]
     },
     "execution_count": 127,
     "metadata": {},
     "output_type": "execute_result"
    }
   ],
   "source": [
    "df = pd.DataFrame(my_arr,index=my_index,columns=my_col)\n",
    "df.head()"
   ]
  },
  {
   "cell_type": "code",
   "execution_count": 128,
   "metadata": {},
   "outputs": [
    {
     "data": {
      "text/plain": [
       "<matplotlib.legend.Legend at 0x2395cea7fd0>"
      ]
     },
     "execution_count": 128,
     "metadata": {},
     "output_type": "execute_result"
    },
    {
     "data": {
      "image/png": "[encoded data removed]",
      "text/plain": [
       "<Figure size 1000x600 with 1 Axes>"
      ]
     },
     "metadata": {},
     "output_type": "display_data"
    }
   ],
   "source": [
    "df.plot(kind = 'bar',figsize=(10,6))\n",
    "plt.legend(loc='upper left')"
   ]
  },
  {
   "attachments": {},
   "cell_type": "markdown",
   "metadata": {},
   "source": [
    "- THE NAIVE METHOD TAKES LESSER TIME THAN STRASSEN'S METHOD AS THE MATRIX SIZE IS SMALL, BUT WE CAN FIGURE OUT THE TREND FROM GRAPH, THE STRASSEN'S METHOD WILL TAKE LESS TIME IF THE SIZE OF THE MATRIX IS MORE THAN 1000 x 1000"
   ]
  },
  {
   "attachments": {},
   "cell_type": "markdown",
   "metadata": {},
   "source": [
    "---"
   ]
  }
 ],
 "metadata": {
  "kernelspec": {
   "display_name": "Python 3",
   "language": "python",
   "name": "python3"
  },
  "language_info": {
   "codemirror_mode": {
    "name": "ipython",
    "version": 3
   },
   "file_extension": ".py",
   "mimetype": "text/x-python",
   "name": "python",
   "nbconvert_exporter": "python",
   "pygments_lexer": "ipython3",
   "version": "3.11.2"
  },
  "orig_nbformat": 4
 },
 "nbformat": 4,
 "nbformat_minor": 2
}
