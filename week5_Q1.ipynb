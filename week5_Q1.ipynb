{
 "cells": [
  {
   "attachments": {},
   "cell_type": "markdown",
   "metadata": {},
   "source": [
    "> ### **IMPLEMENTING MATRIX CHAIN MULTIPLICATION**"
   ]
  },
  {
   "attachments": {},
   "cell_type": "markdown",
   "metadata": {},
   "source": [
    "##### Matrix Chain Multiplication (MCM) is a dynamic programming algorithm that determines the optimal order of multiplying matrices to minimize the total number of multiplications needed. \n",
    "---"
   ]
  },
  {
   "attachments": {},
   "cell_type": "markdown",
   "metadata": {},
   "source": [
    "#### **Description**\n",
    "\n",
    "- The algorithm uses a bottom-up dynamic programming approach.\n",
    "\n",
    "- It iterates over the chain length from $2$ to $n$ and solves the subproblems.\n",
    "\n",
    "- The outer loop represents the length of the chain, and the inner loop iterates over the possible splits of the chain.\n",
    "\n",
    "- The variable length represents the current length of the chain being considered, and $i$ and $j$ represent the starting and ending indices of the chain, respectively.\n",
    " \n",
    "- It then iterates over all possible splits of the chain, represented by the variable $k$, and computes the number of multiplications for the current split.\n",
    "\n",
    "- The number of multiplications is calculated using the formula: \\\n",
    "$ dp[i][k]  + dp[k + 1][j] + dimensions[i] * dimensions[k + 1] * dimensions[j + 1]$. \\\n",
    "This formula represents the number of multiplications required to multiply the matrices from A[i] to A[k] and from A[k+1] to A[j], along with the multiplication of the resulting matrices.\n",
    "\n",
    "- The algorithm updates the minimum number of multiplications for the current chain length using \\\n",
    "$dp[i][j] = min(dp[i][j], multiplications)$.\n",
    "\n",
    "- The algorithm returns `dp[0][n - 1]` as the result."
   ]
  },
  {
   "cell_type": "code",
   "execution_count": 3,
   "metadata": {},
   "outputs": [],
   "source": [
    "def matrix_chain_multiplication(dimensions):\n",
    "    n = len(dimensions) - 1\n",
    "\n",
    "    # Create a 2D table to store the minimum number of multiplications\n",
    "    dp = [[0] * n for _ in range(n)]\n",
    "\n",
    "    # Solve the subproblems\n",
    "    for length in range(2, n + 1):\n",
    "        for i in range(n - length + 1):\n",
    "            j = i + length - 1\n",
    "            dp[i][j] = float('inf')\n",
    "            for k in range(i, j):\n",
    "                # Compute the number of multiplications for the current split\n",
    "                multiplications = dp[i][k] + dp[k + 1][j] + dimensions[i] * dimensions[k + 1] * dimensions[j + 1]\n",
    "                # Update the minimum number of multiplications\n",
    "                dp[i][j] = min(dp[i][j], multiplications)\n",
    "\n",
    "    # Return the minimum number of multiplications for the entire matrix chain\n",
    "    return dp[0][n - 1]"
   ]
  },
  {
   "cell_type": "code",
   "execution_count": 4,
   "metadata": {},
   "outputs": [
    {
     "name": "stdout",
     "output_type": "stream",
     "text": [
      "Minimum number of multiplications: 6750\n"
     ]
    }
   ],
   "source": [
    "dimensions = [10, 30, 5, 60, 15]\n",
    "result = matrix_chain_multiplication(dimensions)\n",
    "print(\"Minimum number of multiplications:\", result)"
   ]
  },
  {
   "attachments": {},
   "cell_type": "markdown",
   "metadata": {},
   "source": [
    "> #### **Time Complexity**\n",
    "_____\n",
    "Since the loop traverses the upper triangular matrix of the DP Table created n times, the time complexity would be $O(n^3)$"
   ]
  }
 ],
 "metadata": {
  "kernelspec": {
   "display_name": "Python 3",
   "language": "python",
   "name": "python3"
  },
  "language_info": {
   "codemirror_mode": {
    "name": "ipython",
    "version": 3
   },
   "file_extension": ".py",
   "mimetype": "text/x-python",
   "name": "python",
   "nbconvert_exporter": "python",
   "pygments_lexer": "ipython3",
   "version": "3.11.2"
  },
  "orig_nbformat": 4
 },
 "nbformat": 4,
 "nbformat_minor": 2
}
