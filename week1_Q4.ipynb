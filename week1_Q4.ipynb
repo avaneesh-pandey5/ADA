{
 "cells": [
  {
   "attachments": {},
   "cell_type": "markdown",
   "metadata": {},
   "source": [
    "# **Q4**\n",
    "-----\n",
    "You are given a list of n-1 integers and these integers are in the range of 1-n.\n",
    "There\n",
    "are no duplicates in the list. One of the integers is missing in the list. Write an efficient code \n",
    "to find the missing integer.\n",
    "\n",
    "-----"
   ]
  },
  {
   "attachments": {},
   "cell_type": "markdown",
   "metadata": {},
   "source": [
    "#### **Removing the Duplicate element**"
   ]
  },
  {
   "cell_type": "code",
   "execution_count": 1,
   "metadata": {},
   "outputs": [],
   "source": [
    "from numpy import arange,random,delete"
   ]
  },
  {
   "cell_type": "code",
   "execution_count": 2,
   "metadata": {},
   "outputs": [],
   "source": [
    "n = 10000000\n",
    "lst = arange(1,n+1)"
   ]
  },
  {
   "cell_type": "code",
   "execution_count": 3,
   "metadata": {},
   "outputs": [
    {
     "name": "stdout",
     "output_type": "stream",
     "text": [
      "8260836\n"
     ]
    }
   ],
   "source": [
    "miss = random.randint(1,10000000)\n",
    "print(lst[miss])\n",
    "lst = delete(lst,miss)\n"
   ]
  },
  {
   "attachments": {},
   "cell_type": "markdown",
   "metadata": {},
   "source": [
    "Let there be a number $x$ having index number $i$ so $x = i + 1$ till there is a duplicate number found, after that $x = i$ . \\\n",
    "We use this and apply binary search on the element which is equal to it's index number."
   ]
  },
  {
   "cell_type": "code",
   "execution_count": 4,
   "metadata": {},
   "outputs": [
    {
     "name": "stdout",
     "output_type": "stream",
     "text": [
      "8260836\n"
     ]
    }
   ],
   "source": [
    "start = 0\n",
    "end = len(lst)-1\n",
    "\n",
    "while start+1 != end:\n",
    "    mid = (end-start)//2 + start\n",
    "    if (mid + 1 == lst[mid]):\n",
    "        start = mid+1\n",
    "    else:\n",
    "        end = mid\n",
    "if (lst[start] != start + 1):\n",
    "    print(lst[start]-1)\n",
    "else:\n",
    "    print(lst[start]+1)"
   ]
  },
  {
   "attachments": {},
   "cell_type": "markdown",
   "metadata": {},
   "source": [
    "> #### **Time Complexity**\n",
    "Since we are applying Binary Search the time complexity is $$O(log n)$$"
   ]
  }
 ],
 "metadata": {
  "kernelspec": {
   "display_name": "Python 3",
   "language": "python",
   "name": "python3"
  },
  "language_info": {
   "codemirror_mode": {
    "name": "ipython",
    "version": 3
   },
   "file_extension": ".py",
   "mimetype": "text/x-python",
   "name": "python",
   "nbconvert_exporter": "python",
   "pygments_lexer": "ipython3",
   "version": "3.11.2"
  },
  "orig_nbformat": 4
 },
 "nbformat": 4,
 "nbformat_minor": 2
}
