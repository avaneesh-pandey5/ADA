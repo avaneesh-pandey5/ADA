{
 "cells": [
  {
   "attachments": {},
   "cell_type": "markdown",
   "metadata": {},
   "source": [
    "# **Q3**\n",
    "_____\n",
    "\n",
    "You have been given two sorted lists of size M and N. It is desired to find the Kth\n",
    "smallest element out of M+N elements of both lists. Propose and implement an efficient \n",
    "algorithm to accomplish the task. Further, propose and implement an efficient algorithm to \n",
    "accomplish the task considering that elements in both lists are unsorted.\n",
    "_____"
   ]
  },
  {
   "attachments": {},
   "cell_type": "markdown",
   "metadata": {},
   "source": [
    "### **Finding the Kth Smallest element out of two sorted arrays**\n",
    "____"
   ]
  },
  {
   "cell_type": "code",
   "execution_count": 1,
   "metadata": {},
   "outputs": [],
   "source": [
    "from numpy.random import randint"
   ]
  },
  {
   "cell_type": "code",
   "execution_count": 2,
   "metadata": {},
   "outputs": [],
   "source": [
    "M = randint(1,1000,1000)\n",
    "M.sort()\n",
    "N = randint(1,1000,1000)\n",
    "N.sort()"
   ]
  },
  {
   "cell_type": "code",
   "execution_count": 3,
   "metadata": {},
   "outputs": [
    {
     "name": "stdout",
     "output_type": "stream",
     "text": [
      "1000 1000 2000\n"
     ]
    }
   ],
   "source": [
    "new_arr = []\n",
    "i,j = 0,0\n",
    "while i < 1000 and j < 1000:\n",
    "    if M[i] < N[j]:\n",
    "        new_arr.append(M[i])\n",
    "        i+=1\n",
    "    else:\n",
    "        new_arr.append(N[j])\n",
    "        j+=1\n",
    "if i<j:\n",
    "    new_arr.extend(M[i:])\n",
    "else:\n",
    "    new_arr.extend(N[j:])\n",
    "\n",
    "print(len(M),len(N),len(new_arr))"
   ]
  },
  {
   "cell_type": "code",
   "execution_count": 4,
   "metadata": {},
   "outputs": [
    {
     "name": "stdout",
     "output_type": "stream",
     "text": [
      "1634 815\n"
     ]
    }
   ],
   "source": [
    "k = randint(1,2000)\n",
    "print(k,new_arr[k],end = '\\n')"
   ]
  },
  {
   "attachments": {},
   "cell_type": "markdown",
   "metadata": {},
   "source": [
    "> #### **Time Complexity**\n",
    "\n",
    "Since we are traversing through both the arrays, the time complexity would be \n",
    "\n",
    "$$ O(m+n) $$\n"
   ]
  }
 ],
 "metadata": {
  "kernelspec": {
   "display_name": "Python 3",
   "language": "python",
   "name": "python3"
  },
  "language_info": {
   "codemirror_mode": {
    "name": "ipython",
    "version": 3
   },
   "file_extension": ".py",
   "mimetype": "text/x-python",
   "name": "python",
   "nbconvert_exporter": "python",
   "pygments_lexer": "ipython3",
   "version": "3.10.7"
  },
  "orig_nbformat": 4
 },
 "nbformat": 4,
 "nbformat_minor": 2
}
