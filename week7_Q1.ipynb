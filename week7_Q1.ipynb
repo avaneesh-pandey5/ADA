{
 "cells": [
  {
   "attachments": {},
   "cell_type": "markdown",
   "metadata": {},
   "source": [
    "> ### **IMPLEMENTING PRIM'S ALGORITHM**"
   ]
  },
  {
   "attachments": {},
   "cell_type": "markdown",
   "metadata": {},
   "source": [
    "#### **Description**\n",
    "_____\n",
    "\n",
    "The `prims_algorithm` function takes the graph as input and returns the `minimum spanning tree`.\n",
    "\n",
    "It starts from an arbitrary node (here, the first node in the graph) and adds it to the visited set.\n",
    "\n",
    "It maintains a `min-heap` called `min_heap` to keep track of the edges with the minimum weight that cross the visited and unvisited nodes.\n",
    "\n",
    "Initially, all the edges from the start node are added to the `min-heap`.\n",
    "\n",
    "While the `min-heap` is not empty, the algorithm selects the edge with the minimum weight from the `min-heap`.\n",
    "\n",
    "If the destination node of the selected edge is not visited, it is added to the visited set, and the edge is added to the `minimum spanning tree.`\n",
    "\n",
    "Then, all the edges from the newly visited node are added to the `min-heap`.\n",
    "\n",
    "The process continues until all nodes are visited.\n",
    "\n",
    "Finally, the minimum spanning tree is returned and printed."
   ]
  },
  {
   "cell_type": "code",
   "execution_count": 1,
   "metadata": {},
   "outputs": [
    {
     "name": "stdout",
     "output_type": "stream",
     "text": [
      "Edge : Weight\n",
      "\n",
      "0-1:9\n",
      "1-3:19\n",
      "3-4:31\n",
      "3-2:51\n"
     ]
    }
   ],
   "source": [
    "INF = 9999999\n",
    "\n",
    "# number of vertices in graph\n",
    "V = 5\n",
    "\n",
    "# create a 2d array of size 5x5\n",
    "G = [[0, 9, 75, 0, 0],\n",
    "     [9, 0, 95, 19, 42],\n",
    "     [75, 95, 0, 51, 66],\n",
    "     [0, 19, 51, 0, 31],\n",
    "     [0, 42, 66, 31, 0]]\n",
    "\n",
    "selected = [0, 0, 0, 0, 0]\n",
    "\n",
    "# set number of edge to 0\n",
    "no_edge = 0\n",
    "\n",
    "selected[0] = True\n",
    "# print for edge and weight\n",
    "print(\"Edge : Weight\\n\")\n",
    "\n",
    "while (no_edge < V - 1):\n",
    "\n",
    "    minimum = INF\n",
    "    x = 0\n",
    "    y = 0\n",
    "    for i in range(V):\n",
    "        if selected[i]:\n",
    "            for j in range(V):\n",
    "                if ((not selected[j]) and G[i][j]):  \n",
    "                    # not in selected and there is an edge\n",
    "                    if minimum > G[i][j]:\n",
    "                        minimum = G[i][j]\n",
    "                        x = i\n",
    "                        y = j\n",
    "    print(str(x) + \"-\" + str(y) + \":\" + str(G[x][y]))\n",
    "    selected[y] = True\n",
    "    no_edge += 1"
   ]
  }
 ],
 "metadata": {
  "kernelspec": {
   "display_name": "Python 3",
   "language": "python",
   "name": "python3"
  },
  "language_info": {
   "codemirror_mode": {
    "name": "ipython",
    "version": 3
   },
   "file_extension": ".py",
   "mimetype": "text/x-python",
   "name": "python",
   "nbconvert_exporter": "python",
   "pygments_lexer": "ipython3",
   "version": "3.11.2"
  },
  "orig_nbformat": 4
 },
 "nbformat": 4,
 "nbformat_minor": 2
}
