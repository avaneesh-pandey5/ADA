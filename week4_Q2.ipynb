{
 "cells": [
  {
   "attachments": {},
   "cell_type": "markdown",
   "metadata": {},
   "source": [
    "> ### **IMPLEMENTING LONGEST INCREASING SUBSEQUENCE**"
   ]
  },
  {
   "attachments": {},
   "cell_type": "markdown",
   "metadata": {},
   "source": [
    "\n",
    "#### The Longest Increasing Subsequence (LIS) refers to a subsequence of a given sequence in which the elements are in increasing order, and the subsequence is of maximum length.\n",
    "___"
   ]
  },
  {
   "attachments": {},
   "cell_type": "markdown",
   "metadata": {},
   "source": [
    "#### **Description**\n",
    "\n",
    "- Initialize a list `lis_lengths` of size $n$ with all elements set to $1$.\n",
    "\n",
    "- Iterate through each element in the input list `arr`, starting from the second element.\n",
    "    - For each element at index $i$, iterate through all the previous elements at indices $j$ from $0$ to $i-1$.\n",
    "    - Compare the element at index $i$ with the element at index $j$.\n",
    "    - If the element at index $i$ is greater than the element at index $j$, update the length at index $i$ in `lis_lengths` as the maximum value between the current length at index $i$ and the length at index $j + 1$.\n",
    "    - This step ensures that we update the length at index $i$ to the longest increasing subsequence length found so far.\n",
    "\n",
    "- After completing the iteration, find the maximum length in the lis_lengths list, which represents the length of the longest increasing subsequence.\n",
    "- Return the maximum length as the result.\n",
    "\n",
    "---"
   ]
  },
  {
   "cell_type": "code",
   "execution_count": 2,
   "metadata": {},
   "outputs": [],
   "source": [
    "import numpy as np"
   ]
  },
  {
   "cell_type": "code",
   "execution_count": 44,
   "metadata": {},
   "outputs": [],
   "source": [
    "def longest_increasing_subsequence(arr):\n",
    "    n = len(arr)\n",
    "    # Create a list to store the lengths of the increasing subsequences\n",
    "    lis_lengths = [1] * n\n",
    "\n",
    "    # Compute the LIS lengths\n",
    "    for i in range(1, n):\n",
    "        for j in range(i):\n",
    "            if arr[i] > arr[j]:\n",
    "                lis_lengths[i] = max(lis_lengths[i], lis_lengths[j] + 1)\n",
    "\n",
    "    # Find the maximum LIS length\n",
    "    max_length = max(lis_lengths)\n",
    "    return max_length"
   ]
  },
  {
   "cell_type": "code",
   "execution_count": 45,
   "metadata": {},
   "outputs": [
    {
     "name": "stdout",
     "output_type": "stream",
     "text": [
      "Longest Increasing Subsequence: 8\n"
     ]
    }
   ],
   "source": [
    "sequence = [3, -1, 3, 5, 6, 3, 1, 9, 10, 13, 465]\n",
    "lis = longest_increasing_subsequence(sequence)\n",
    "print(\"Longest Increasing Subsequence:\", lis)\n"
   ]
  },
  {
   "attachments": {},
   "cell_type": "markdown",
   "metadata": {},
   "source": [
    "___"
   ]
  },
  {
   "attachments": {},
   "cell_type": "markdown",
   "metadata": {},
   "source": [
    "> #### **`TIME COMPLEXITY :`**\n",
    "- The algorithm uses two nested for loops to iterate through each element in the list and compare it with all the previous elements in the list.\n",
    "- The outer loop runs $n$ times where $n$ is the length of the list given.\n",
    "- The inner loop runs $i$ times for $i$ being each iteration of the outer loop.\n",
    "- Hence the total number of comparisons made by the algorithm is roughly $$(n-1) + (n-2) + ... + 1$$ $$n * (n-1) \\over 2$$\n",
    "- Therefore the time complexity of the algorithm is $$ O(n^2) $$\n",
    "---"
   ]
  },
  {
   "attachments": {},
   "cell_type": "markdown",
   "metadata": {},
   "source": [
    "> #### **`SPACE COMPLEXITY :`**\n",
    "- The algorithm uses additional space to store the `lis_lengths` list, which has the same length as the input list `arr`.\n",
    "- Hence, the space complexity of the algorithm is $$O(n)$$\n",
    "___"
   ]
  }
 ],
 "metadata": {
  "kernelspec": {
   "display_name": "Python 3",
   "language": "python",
   "name": "python3"
  },
  "language_info": {
   "codemirror_mode": {
    "name": "ipython",
    "version": 3
   },
   "file_extension": ".py",
   "mimetype": "text/x-python",
   "name": "python",
   "nbconvert_exporter": "python",
   "pygments_lexer": "ipython3",
   "version": "3.11.2"
  },
  "orig_nbformat": 4
 },
 "nbformat": 4,
 "nbformat_minor": 2
}
