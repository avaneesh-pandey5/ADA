{
 "cells": [
  {
   "attachments": {},
   "cell_type": "markdown",
   "metadata": {},
   "source": [
    "# **Q2**\n",
    "_____\n",
    "\n",
    "Revise pseudocode for searching within an array (int, float, or char type) using following \n",
    "searching techniques \\\n",
    "A. Plot the complexity chart for n=10 to 100. \\\n",
    "B. Analyze their complexities in best case, average case and worst case.\n",
    "____"
   ]
  },
  {
   "attachments": {},
   "cell_type": "markdown",
   "metadata": {},
   "source": [
    "## **LINEAR SEARCH VS BINARY SEARCH**\n",
    "___"
   ]
  },
  {
   "cell_type": "code",
   "execution_count": 1,
   "metadata": {},
   "outputs": [],
   "source": [
    "import numpy as np"
   ]
  },
  {
   "cell_type": "code",
   "execution_count": 2,
   "metadata": {},
   "outputs": [],
   "source": [
    "def linear_search(arr,x):\n",
    "    for i in range(len(arr)):\n",
    "        if x == arr[i]:\n",
    "            return i\n",
    "    return -1\n",
    "\n",
    "def binary_search(arr,x,l,h):\n",
    "    mid = ((h-l)//2) + l\n",
    "\n",
    "    if l> h:\n",
    "        return -1\n",
    "\n",
    "    if arr[mid] == x:\n",
    "        return mid\n",
    "    elif arr[mid] < x:\n",
    "        return binary_search(arr, x, mid+1,h)\n",
    "    elif arr[mid] > x:\n",
    "        return binary_search(arr, x, l,mid-1)\n",
    "\n"
   ]
  },
  {
   "cell_type": "code",
   "execution_count": 3,
   "metadata": {},
   "outputs": [],
   "source": [
    "arr = np.random.randint(0,100000,100000)\n",
    "arr.sort()\n",
    "len(arr)\n",
    "arr[-1]\n",
    "from time import time\n",
    "linear = []\n",
    "binary = []"
   ]
  },
  {
   "cell_type": "code",
   "execution_count": 4,
   "metadata": {},
   "outputs": [],
   "source": [
    "\n",
    "for i in range(1,100):\n",
    "    arr = np.random.randint(0,100000,1000*i)\n",
    "    arr.sort()\n",
    "    tic = time()\n",
    "    linear_search(arr,arr[-1])\n",
    "    toc = time()\n",
    "    linear.append(toc-tic)"
   ]
  },
  {
   "cell_type": "code",
   "execution_count": 5,
   "metadata": {},
   "outputs": [],
   "source": [
    "for i in range(1,100):\n",
    "    arr = np.random.randint(0,100000,1000*i)\n",
    "    arr.sort()\n",
    "    tic = time()\n",
    "    binary_search(arr,arr[-1] ,0,100*i)\n",
    "    toc = time()\n",
    "    binary.append(toc-tic)"
   ]
  },
  {
   "cell_type": "code",
   "execution_count": 6,
   "metadata": {},
   "outputs": [],
   "source": [
    "import pandas as pd\n",
    "import numpy as np\n",
    "linear = np.array(linear)\n",
    "binary = np.array(binary)\n",
    "df = pd.DataFrame(data=[linear,binary],index=[\"Linear Search\",\"Binary Search\"]).transpose()"
   ]
  },
  {
   "cell_type": "code",
   "execution_count": 7,
   "metadata": {},
   "outputs": [
    {
     "data": {
      "text/html": [
       "<div>\n",
       "<style scoped>\n",
       "    .dataframe tbody tr th:only-of-type {\n",
       "        vertical-align: middle;\n",
       "    }\n",
       "\n",
       "    .dataframe tbody tr th {\n",
       "        vertical-align: top;\n",
       "    }\n",
       "\n",
       "    .dataframe thead th {\n",
       "        text-align: right;\n",
       "    }\n",
       "</style>\n",
       "<table border=\"1\" class=\"dataframe\">\n",
       "  <thead>\n",
       "    <tr style=\"text-align: right;\">\n",
       "      <th></th>\n",
       "      <th>Linear Search</th>\n",
       "      <th>Binary Search</th>\n",
       "    </tr>\n",
       "  </thead>\n",
       "  <tbody>\n",
       "    <tr>\n",
       "      <th>0</th>\n",
       "      <td>0.000000</td>\n",
       "      <td>0.000000</td>\n",
       "    </tr>\n",
       "    <tr>\n",
       "      <th>1</th>\n",
       "      <td>0.000000</td>\n",
       "      <td>0.000000</td>\n",
       "    </tr>\n",
       "    <tr>\n",
       "      <th>2</th>\n",
       "      <td>0.001000</td>\n",
       "      <td>0.000000</td>\n",
       "    </tr>\n",
       "    <tr>\n",
       "      <th>3</th>\n",
       "      <td>0.000000</td>\n",
       "      <td>0.000998</td>\n",
       "    </tr>\n",
       "    <tr>\n",
       "      <th>4</th>\n",
       "      <td>0.000000</td>\n",
       "      <td>0.000000</td>\n",
       "    </tr>\n",
       "    <tr>\n",
       "      <th>...</th>\n",
       "      <td>...</td>\n",
       "      <td>...</td>\n",
       "    </tr>\n",
       "    <tr>\n",
       "      <th>94</th>\n",
       "      <td>0.006606</td>\n",
       "      <td>0.000000</td>\n",
       "    </tr>\n",
       "    <tr>\n",
       "      <th>95</th>\n",
       "      <td>0.006000</td>\n",
       "      <td>0.000000</td>\n",
       "    </tr>\n",
       "    <tr>\n",
       "      <th>96</th>\n",
       "      <td>0.007026</td>\n",
       "      <td>0.000000</td>\n",
       "    </tr>\n",
       "    <tr>\n",
       "      <th>97</th>\n",
       "      <td>0.006442</td>\n",
       "      <td>0.000000</td>\n",
       "    </tr>\n",
       "    <tr>\n",
       "      <th>98</th>\n",
       "      <td>0.006000</td>\n",
       "      <td>0.000000</td>\n",
       "    </tr>\n",
       "  </tbody>\n",
       "</table>\n",
       "<p>99 rows × 2 columns</p>\n",
       "</div>"
      ],
      "text/plain": [
       "    Linear Search  Binary Search\n",
       "0        0.000000       0.000000\n",
       "1        0.000000       0.000000\n",
       "2        0.001000       0.000000\n",
       "3        0.000000       0.000998\n",
       "4        0.000000       0.000000\n",
       "..            ...            ...\n",
       "94       0.006606       0.000000\n",
       "95       0.006000       0.000000\n",
       "96       0.007026       0.000000\n",
       "97       0.006442       0.000000\n",
       "98       0.006000       0.000000\n",
       "\n",
       "[99 rows x 2 columns]"
      ]
     },
     "execution_count": 7,
     "metadata": {},
     "output_type": "execute_result"
    }
   ],
   "source": [
    "df"
   ]
  },
  {
   "attachments": {},
   "cell_type": "markdown",
   "metadata": {},
   "source": [
    "#### Plotting the Graphs for both the search techniques"
   ]
  },
  {
   "cell_type": "code",
   "execution_count": 8,
   "metadata": {},
   "outputs": [
    {
     "data": {
      "text/plain": [
       "<Axes: >"
      ]
     },
     "execution_count": 8,
     "metadata": {},
     "output_type": "execute_result"
    },
    {
     "data": {
      "image/png": "[encoded data removed]",
      "text/plain": [
       "<Figure size 640x480 with 1 Axes>"
      ]
     },
     "metadata": {},
     "output_type": "display_data"
    }
   ],
   "source": [
    "df.plot()"
   ]
  },
  {
   "attachments": {},
   "cell_type": "markdown",
   "metadata": {},
   "source": [
    "From the above graph we can see that Linear search takes more time than Binary search as the linear search traverses the entire list and the \n",
    "\n",
    "> #### Time Complexity\n",
    "\n",
    "$O(n)$ for `Linear Search` & \\\n",
    "$O(log n)$ for `Binary Search`"
   ]
  }
 ],
 "metadata": {
  "kernelspec": {
   "display_name": "Python 3",
   "language": "python",
   "name": "python3"
  },
  "language_info": {
   "codemirror_mode": {
    "name": "ipython",
    "version": 3
   },
   "file_extension": ".py",
   "mimetype": "text/x-python",
   "name": "python",
   "nbconvert_exporter": "python",
   "pygments_lexer": "ipython3",
   "version": "3.11.2"
  },
  "orig_nbformat": 4
 },
 "nbformat": 4,
 "nbformat_minor": 2
}
