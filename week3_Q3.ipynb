{
 "cells": [
  {
   "attachments": {},
   "cell_type": "markdown",
   "metadata": {},
   "source": [
    "# **Week 3 Q3**\n",
    "____\n",
    "\n",
    "**Maximum Value Contiguous Subsequence**\\\n",
    "\\\n",
    "Given a sequence of n numbers _A(1) ...A(n)_, give an algorithm for finding a contiguous subsequence _A(i) ...A(j)_ for which the sum of elements in the subsequence is maximum.\\\n",
    "\\\n",
    "Example : **{-2, 11, -4, 13, -5, 2} → 20** and **{1, -3, 4, -2, -1, 6 } → 7.**\n",
    "___"
   ]
  },
  {
   "cell_type": "code",
   "execution_count": 1,
   "metadata": {},
   "outputs": [],
   "source": [
    "def max_sum_problem(nums):\n",
    "    sum = 0\n",
    "    max_sum = nums[0]\n",
    "\n",
    "    for i in nums:\n",
    "        sum+=i\n",
    "        if sum>max_sum:\n",
    "            max_sum = sum\n",
    "        \n",
    "        if sum<=0:\n",
    "            sum = 0\n",
    "\n",
    "    return max_sum"
   ]
  },
  {
   "cell_type": "code",
   "execution_count": 2,
   "metadata": {},
   "outputs": [
    {
     "data": {
      "text/plain": [
       "20"
      ]
     },
     "execution_count": 2,
     "metadata": {},
     "output_type": "execute_result"
    }
   ],
   "source": [
    "max_sum_problem([-2, 11, -4, 13, -5, 2])"
   ]
  },
  {
   "cell_type": "code",
   "execution_count": 3,
   "metadata": {},
   "outputs": [
    {
     "data": {
      "text/plain": [
       "7"
      ]
     },
     "execution_count": 3,
     "metadata": {},
     "output_type": "execute_result"
    }
   ],
   "source": [
    "max_sum_problem([1, -3, 4, -2, -1, 6 ])"
   ]
  },
  {
   "cell_type": "code",
   "execution_count": 4,
   "metadata": {},
   "outputs": [
    {
     "data": {
      "text/plain": [
       "6"
      ]
     },
     "execution_count": 4,
     "metadata": {},
     "output_type": "execute_result"
    }
   ],
   "source": [
    "max_sum_problem([-2,1,-3,4,-1,2,1,-5,4])"
   ]
  },
  {
   "attachments": {},
   "cell_type": "markdown",
   "metadata": {},
   "source": [
    "___\n",
    "---"
   ]
  }
 ],
 "metadata": {
  "kernelspec": {
   "display_name": "Python 3",
   "language": "python",
   "name": "python3"
  },
  "language_info": {
   "codemirror_mode": {
    "name": "ipython",
    "version": 3
   },
   "file_extension": ".py",
   "mimetype": "text/x-python",
   "name": "python",
   "nbconvert_exporter": "python",
   "pygments_lexer": "ipython3",
   "version": "3.11.2"
  },
  "orig_nbformat": 4
 },
 "nbformat": 4,
 "nbformat_minor": 2
}
