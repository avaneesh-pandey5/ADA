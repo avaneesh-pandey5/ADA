{
 "cells": [
  {
   "attachments": {},
   "cell_type": "markdown",
   "metadata": {},
   "source": [
    "> ### **IMPLEMENTING LONGEST ALTERNATING SUBSEQUENCE**"
   ]
  },
  {
   "attachments": {},
   "cell_type": "markdown",
   "metadata": {},
   "source": [
    "\n",
    "#### The Longest Alternating Subsequence refers to a subsequence of a given sequence in which the elements are in alternating (increasing/decreasing) order, and the subsequence is of maximum length.\n",
    "___"
   ]
  },
  {
   "attachments": {},
   "cell_type": "markdown",
   "metadata": {},
   "source": [
    "#### **Description**\n",
    "\n",
    "- Initialize two lists, `inc_lengths` and `dec_lengths`, with all elements set to 1. These lists will store the lengths of the longest increasing and decreasing alternating subsequences, respectively.\n",
    "\n",
    "- Iterate through each element in the input array `arr`, starting from the second element.\n",
    "\n",
    "- For each element at index $i$, iterate through all previous elements at indices $j$ from $0$ to $i-1$.\n",
    "- Compare the element at index i with the element at index j.\n",
    "- If the element at index i is greater than the element at index $j$, it means we can include `arr[i]` in a longer increasing alternating subsequence. Update the length at index $i$ in inc_lengths as the maximum value between its current length at index i and the length at index j in dec_lengths plus one.\n",
    "- If the element at index $i$ is smaller than the element at index $j$, it means we can include `arr[i]` in a longer decreasing alternating subsequence. Update the length at index $i$ in dec_lengths as the maximum value between its current length at index i and the length at index j in inc_lengths plus one.\n",
    "- After completing the iteration, find the maximum length of the alternating subsequence by taking the maximum value between the maximum value in inc_lengths and the maximum value in dec_lengths.\n",
    "\n",
    "- Return the maximum length as the result.\n",
    "\n",
    "---"
   ]
  },
  {
   "cell_type": "code",
   "execution_count": 1,
   "metadata": {},
   "outputs": [],
   "source": [
    "def longest_alternating_subsequence(arr):\n",
    "    n = len(arr)\n",
    "    # Create two lists to store the lengths of the longest alternating subsequences\n",
    "    inc_lengths = [1] * n  # Length of the longest increasing alternating subsequence\n",
    "    dec_lengths = [1] * n  # Length of the longest decreasing alternating subsequence\n",
    "\n",
    "    # Compute the lengths of the longest alternating subsequences\n",
    "    for i in range(1, n):\n",
    "        for j in range(i):\n",
    "            if arr[i] > arr[j]:\n",
    "                inc_lengths[i] = max(inc_lengths[i], dec_lengths[j] + 1)\n",
    "            elif arr[i] < arr[j]:\n",
    "                dec_lengths[i] = max(dec_lengths[i], inc_lengths[j] + 1)\n",
    "\n",
    "    # Find the maximum length of the alternating subsequence\n",
    "    max_length = max(max(inc_lengths), max(dec_lengths))\n",
    "    return max_length"
   ]
  },
  {
   "cell_type": "code",
   "execution_count": 3,
   "metadata": {},
   "outputs": [
    {
     "name": "stdout",
     "output_type": "stream",
     "text": [
      "Longest Alternating Subsequence: 17\n"
     ]
    }
   ],
   "source": [
    "sequence = [3, 1, 4, 1, 5, 9, 2, 6, 5, 3, 5, 8, 9, 7, 9, 3, 2, 3, 8, 4, 6, 2, 7]\n",
    "lis = longest_alternating_subsequence(sequence)\n",
    "print(\"Longest Alternating Subsequence:\", lis)\n"
   ]
  },
  {
   "attachments": {},
   "cell_type": "markdown",
   "metadata": {},
   "source": [
    "___"
   ]
  },
  {
   "attachments": {},
   "cell_type": "markdown",
   "metadata": {},
   "source": [
    "> #### **`TIME COMPLEXITY :`**\n",
    "- The algorithm uses two nested for loops to iterate through each element in the list and compare it with all the previous elements in the list.\n",
    "- The outer loop runs $n$ times where $n$ is the length of the list given.\n",
    "- The inner loop runs $i$ times for $i$ being each iteration of the outer loop.\n",
    "- Hence the total number of comparisons made by the algorithm is roughly $$(n-1) + (n-2) + ... + 1$$ $$n * (n-1) \\over 2$$\n",
    "- Therefore the time complexity of the algorithm is $$ O(n^2) $$\n",
    "---"
   ]
  },
  {
   "attachments": {},
   "cell_type": "markdown",
   "metadata": {},
   "source": [
    "> #### **`SPACE COMPLEXITY :`**\n",
    "- The algorithm uses additional space to store the `lis_lengths` list, which has the same length as the input list `arr`.\n",
    "- Hence, the space complexity of the algorithm is $$O(n)$$\n",
    "___"
   ]
  }
 ],
 "metadata": {
  "kernelspec": {
   "display_name": "Python 3",
   "language": "python",
   "name": "python3"
  },
  "language_info": {
   "codemirror_mode": {
    "name": "ipython",
    "version": 3
   },
   "file_extension": ".py",
   "mimetype": "text/x-python",
   "name": "python",
   "nbconvert_exporter": "python",
   "pygments_lexer": "ipython3",
   "version": "3.11.2"
  },
  "orig_nbformat": 4
 },
 "nbformat": 4,
 "nbformat_minor": 2
}
