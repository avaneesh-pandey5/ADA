{
 "cells": [
  {
   "attachments": {},
   "cell_type": "markdown",
   "metadata": {},
   "source": [
    "# **Week 1 Q5**\n",
    "____\n",
    "\n",
    "You have been given a sorted array ARR (of size M, where M is very large) of two\n",
    "elements, 0 and 1. It is desired to compute the count of 0s in the array ARR. Propose and \n",
    "implement an efficient algorithm to accomplish the task.\n",
    "_____"
   ]
  },
  {
   "cell_type": "code",
   "execution_count": 55,
   "metadata": {},
   "outputs": [],
   "source": [
    "import numpy as np\n",
    "from time import time"
   ]
  },
  {
   "cell_type": "code",
   "execution_count": 56,
   "metadata": {},
   "outputs": [],
   "source": [
    "ARR = np.append(np.zeros(np.random.randint(100000,1000000)),np.ones(np.random.randint(100000,1000000)))"
   ]
  },
  {
   "cell_type": "code",
   "execution_count": 57,
   "metadata": {},
   "outputs": [
    {
     "data": {
      "text/plain": [
       "1299843"
      ]
     },
     "execution_count": 57,
     "metadata": {},
     "output_type": "execute_result"
    }
   ],
   "source": [
    "len(ARR)"
   ]
  },
  {
   "attachments": {},
   "cell_type": "markdown",
   "metadata": {},
   "source": [
    "> Applying Linear Search to find the first occurance of 1."
   ]
  },
  {
   "cell_type": "code",
   "execution_count": 58,
   "metadata": {},
   "outputs": [
    {
     "name": "stdout",
     "output_type": "stream",
     "text": [
      "957846\n"
     ]
    }
   ],
   "source": [
    "t0 = time()\n",
    "for i in range(len(ARR)):\n",
    "    if ARR[i]==1:\n",
    "        print(i)\n",
    "        break\n",
    "t1 = time()\n",
    "time_linear = t1-t0"
   ]
  },
  {
   "attachments": {},
   "cell_type": "markdown",
   "metadata": {},
   "source": [
    "> Applying a modified Binary Search to find the first occurance of 1."
   ]
  },
  {
   "cell_type": "code",
   "execution_count": 59,
   "metadata": {},
   "outputs": [
    {
     "name": "stdout",
     "output_type": "stream",
     "text": [
      "957846\n"
     ]
    }
   ],
   "source": [
    "t0 = time()\n",
    "end = len(ARR)\n",
    "start = 0\n",
    "\n",
    "while True:\n",
    "    mid = (end-start)//2 + start\n",
    "\n",
    "    if ARR[mid] == 0:\n",
    "        start = mid\n",
    "    else:\n",
    "        end = mid\n",
    "    if ARR[mid] == 1 and ARR[mid-1] == 0:\n",
    "        break\n",
    "t1 = time()\n",
    "print(mid)\n",
    "\n",
    "time_binary = t1-t0\n"
   ]
  },
  {
   "cell_type": "code",
   "execution_count": 60,
   "metadata": {},
   "outputs": [
    {
     "name": "stdout",
     "output_type": "stream",
     "text": [
      "The time taken by Linear Search is 0.2880127429962158\n",
      "The time taken by Binary Search is 0.0\n"
     ]
    }
   ],
   "source": [
    "print(\"The time taken by Linear Search is\",time_linear)\n",
    "print(\"The time taken by Binary Search is\",time_binary)"
   ]
  },
  {
   "attachments": {},
   "cell_type": "markdown",
   "metadata": {},
   "source": [
    "From the time above we can see that our algorithm perfoms much faster than a naive method."
   ]
  }
 ],
 "metadata": {
  "kernelspec": {
   "display_name": "Python 3",
   "language": "python",
   "name": "python3"
  },
  "language_info": {
   "codemirror_mode": {
    "name": "ipython",
    "version": 3
   },
   "file_extension": ".py",
   "mimetype": "text/x-python",
   "name": "python",
   "nbconvert_exporter": "python",
   "pygments_lexer": "ipython3",
   "version": "3.11.2"
  },
  "orig_nbformat": 4
 },
 "nbformat": 4,
 "nbformat_minor": 2
}
