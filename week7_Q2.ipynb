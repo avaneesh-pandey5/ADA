{
 "cells": [
  {
   "attachments": {},
   "cell_type": "markdown",
   "metadata": {},
   "source": [
    "> ### **IMPLEMENTING KRUSKAL'S ALGORITHM**"
   ]
  },
  {
   "attachments": {},
   "cell_type": "markdown",
   "metadata": {},
   "source": [
    "#### **Description**\n",
    "_____\n",
    "\n",
    "The `kruskals_algorithm` function takes the graph as input and returns the` minimum spanning tree.`\n",
    "\n",
    "It initializes an empty list called `edges` to store all the `edges` in the graph.\n",
    "\n",
    "It iterates over each node in the `graph` and adds its neighboring `edges` to the edges list.\n",
    "\n",
    "The edges list is sorted in ascending order based on the `edge weights`.\n",
    "\n",
    "The algorithm initializes an empty list called `minimum_spanning_tree` to store the `edges` of the` minimum spanning tree`.\n",
    "\n",
    "It creates an instance of the `DisjointSet` class and initializes it with the `nodes` of the graph.\n",
    "\n",
    "It iterates over each edge in the sorted edges list.\n",
    "\n",
    "If the source and destination nodes of the current edge are not in the same set (i.e., they don't create a cycle), the algorithm performs the union operation on the sets containing the source and destination nodes.\n",
    "\n",
    "The edge is then added to the `minimum_spanning_tree`.\n",
    "\n",
    "The process continues until all `edges` are processed.\n",
    "\n",
    "Finally, the `minimum spanning tree` is returned and printed."
   ]
  },
  {
   "cell_type": "code",
   "execution_count": 1,
   "metadata": {},
   "outputs": [],
   "source": [
    "class DisjointSet:\n",
    "    def __init__(self, nodes):\n",
    "        self.parent = {node: node for node in nodes}\n",
    "        self.rank = {node: 0 for node in nodes}\n",
    "\n",
    "    def find(self, node):\n",
    "        if self.parent[node] != node:\n",
    "            self.parent[node] = self.find(self.parent[node])\n",
    "        return self.parent[node]\n",
    "\n",
    "    def union(self, node1, node2):\n",
    "        root1 = self.find(node1)\n",
    "        root2 = self.find(node2)\n",
    "\n",
    "        if root1 != root2:\n",
    "            if self.rank[root1] < self.rank[root2]:\n",
    "                self.parent[root1] = root2\n",
    "            elif self.rank[root1] > self.rank[root2]:\n",
    "                self.parent[root2] = root1\n",
    "            else:\n",
    "                self.parent[root1] = root2\n",
    "                self.rank[root2] += 1\n",
    "\n",
    "def kruskals_algorithm(graph):\n",
    "    edges = []\n",
    "    for node in graph:\n",
    "        for neighbor, weight in graph[node]:\n",
    "            edges.append((weight, node, neighbor))\n",
    "\n",
    "    edges.sort()\n",
    "    minimum_spanning_tree = []\n",
    "    disjoint_set = DisjointSet(graph.keys())\n",
    "\n",
    "    for edge in edges:\n",
    "        weight, src, dest = edge\n",
    "        if disjoint_set.find(src) != disjoint_set.find(dest):\n",
    "            disjoint_set.union(src, dest)\n",
    "            minimum_spanning_tree.append((src, dest, weight))\n",
    "\n",
    "    return minimum_spanning_tree"
   ]
  },
  {
   "cell_type": "code",
   "execution_count": 2,
   "metadata": {},
   "outputs": [
    {
     "name": "stdout",
     "output_type": "stream",
     "text": [
      "Minimum Spanning Tree:\n",
      "B -- C : 1\n",
      "A -- B : 2\n",
      "C -- D : 2\n"
     ]
    }
   ],
   "source": [
    "# Example graph representation using an adjacency list\n",
    "graph = {\n",
    "    'A': [('B', 2), ('C', 3)],\n",
    "    'B': [('A', 2), ('C', 1), ('D', 4)],\n",
    "    'C': [('A', 3), ('B', 1), ('D', 2)],\n",
    "    'D': [('B', 4), ('C', 2)]\n",
    "}\n",
    "\n",
    "print(\"Minimum Spanning Tree:\")\n",
    "minimum_spanning_tree = kruskals_algorithm(graph)\n",
    "for edge in minimum_spanning_tree:\n",
    "    src, dest, weight = edge\n",
    "    print(src, \"--\", dest, \":\", weight)\n"
   ]
  },
  {
   "cell_type": "code",
   "execution_count": null,
   "metadata": {},
   "outputs": [],
   "source": []
  }
 ],
 "metadata": {
  "kernelspec": {
   "display_name": "Python 3",
   "language": "python",
   "name": "python3"
  },
  "language_info": {
   "codemirror_mode": {
    "name": "ipython",
    "version": 3
   },
   "file_extension": ".py",
   "mimetype": "text/x-python",
   "name": "python",
   "nbconvert_exporter": "python",
   "pygments_lexer": "ipython3",
   "version": "3.11.2"
  },
  "orig_nbformat": 4
 },
 "nbformat": 4,
 "nbformat_minor": 2
}
