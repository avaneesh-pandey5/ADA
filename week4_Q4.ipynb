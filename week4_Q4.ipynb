{
 "cells": [
  {
   "attachments": {},
   "cell_type": "markdown",
   "metadata": {},
   "source": [
    "> ### **IMPLEMENTING LONGEST PALINDROMIC SUBSEQUENCE**"
   ]
  },
  {
   "attachments": {},
   "cell_type": "markdown",
   "metadata": {},
   "source": [
    "\n",
    "#### The Longest Palindromic Subsequence refers to a subsequence of a given sequence in which the elements form a palindrome, and the subsequence is of maximum length.\n",
    "___"
   ]
  },
  {
   "attachments": {},
   "cell_type": "markdown",
   "metadata": {},
   "source": [
    "#### **Description**\n",
    "\n",
    "- Create a `2D table`, `dp`, of size $n x n$, where $n$ is the length of the input string. Each entry `dp[i][j]` represents the length of the longest palindromic subsequence in the substring from index $i$ to index $j$.\n",
    "\n",
    "- Initialize the diagonal elements of dp with $1$ since each character in the string is a palindrome of length $1$.\n",
    "\n",
    "- Iterate over the substrings of length $2$ to $n$ (outer loop).\n",
    "\n",
    "- For each substring length, iterate over the starting index $i$ (inner loop).\n",
    "\n",
    "- Calculate the ending index $j$ based on the starting index $i$ and the substring length.\n",
    "\n",
    "- If the characters at indices $i$ and $j$ are the same, it means we can include both characters in the palindromic subsequence. So, the length of the palindromic subsequence is updated as `dp[i+1][j-1] + 2`.\n",
    "\n",
    "- If the characters at indices $i$ and $j$ are different, we consider two cases:\n",
    "\n",
    "- Exclude the character at index $i$ and find the length of the longest palindromic subsequence in the substring from $i+1$ to $j$. This is given by `dp[i+1][j]`.\n",
    "- Exclude the character at index $j$ and find the length of the longest palindromic subsequence in the substring from $i$ to $j-1$. This is given by `dp[i][j-1]`.\n",
    "- Take the maximum of the above two cases to update `dp[i][j]`.\n",
    "- After completing the iteration, `dp[0][n-1]` will store the length of the longest palindromic subsequence in the entire string.\n",
    "\n",
    "- Return `dp[0][n-1]` as the result.\n",
    "\n",
    "---"
   ]
  },
  {
   "cell_type": "code",
   "execution_count": 2,
   "metadata": {},
   "outputs": [],
   "source": [
    "def longest_palindromic_subsequence(string):\n",
    "    n = len(string)\n",
    "    # Create a 2D table to store the lengths of palindromic subsequences\n",
    "    dp = [[0] * n for _ in range(n)]\n",
    "\n",
    "    # All characters in the string are palindromes of length 1\n",
    "    for i in range(n):\n",
    "        dp[i][i] = 1\n",
    "\n",
    "    # Compute the lengths of palindromic subsequences\n",
    "    for length in range(2, n + 1):\n",
    "        for i in range(n - length + 1):\n",
    "            j = i + length - 1\n",
    "            if string[i] == string[j]:\n",
    "                dp[i][j] = dp[i + 1][j - 1] + 2\n",
    "            else:\n",
    "                dp[i][j] = max(dp[i + 1][j], dp[i][j - 1])\n",
    "\n",
    "    # Return the length of the longest palindromic subsequence\n",
    "    return dp[0][n - 1]\n"
   ]
  },
  {
   "cell_type": "code",
   "execution_count": 3,
   "metadata": {},
   "outputs": [
    {
     "name": "stdout",
     "output_type": "stream",
     "text": [
      "Longest Palindromic Subsequence: 9\n"
     ]
    }
   ],
   "source": [
    "sequence = [3, 1, 4, 1, 5, 9, 2, 6, 5, 3, 5, 8, 9, 7, 9, 3, 2, 3, 8, 4, 6, 2, 7]\n",
    "lis = longest_palindromic_subsequence(sequence)\n",
    "print(\"Longest Palindromic Subsequence:\", lis)\n"
   ]
  },
  {
   "attachments": {},
   "cell_type": "markdown",
   "metadata": {},
   "source": [
    "___"
   ]
  },
  {
   "attachments": {},
   "cell_type": "markdown",
   "metadata": {},
   "source": [
    "> #### **`TIME COMPLEXITY :`**\n",
    "- The algorithm uses two nested for loops to iterate through each element in the list and compare it with all the previous elements in the list.\n",
    "- The outer loop runs $n$ times where $n$ is the length of the list given.\n",
    "- The inner loop runs $i$ times for $i$ being each iteration of the outer loop.\n",
    "- Hence the total number of comparisons made by the algorithm is roughly $$(n-1) + (n-2) + ... + 1$$ $$n * (n-1) \\over 2$$\n",
    "- Therefore the time complexity of the algorithm is $$ O(n^2) $$\n",
    "---"
   ]
  },
  {
   "attachments": {},
   "cell_type": "markdown",
   "metadata": {},
   "source": [
    "> #### **`SPACE COMPLEXITY :`**\n",
    "- The algorithm uses additional space to store the $lis_lengths$ list, which has the same length as the input list $arr$.\n",
    "- Hence, the space complexity of the algorithm is $$O(n)$$\n",
    "___"
   ]
  }
 ],
 "metadata": {
  "kernelspec": {
   "display_name": "Python 3",
   "language": "python",
   "name": "python3"
  },
  "language_info": {
   "codemirror_mode": {
    "name": "ipython",
    "version": 3
   },
   "file_extension": ".py",
   "mimetype": "text/x-python",
   "name": "python",
   "nbconvert_exporter": "python",
   "pygments_lexer": "ipython3",
   "version": "3.11.2"
  },
  "orig_nbformat": 4
 },
 "nbformat": 4,
 "nbformat_minor": 2
}
