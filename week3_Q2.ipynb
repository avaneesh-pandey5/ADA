{
 "cells": [
  {
   "attachments": {},
   "cell_type": "markdown",
   "metadata": {},
   "source": [
    "# **Week 3 Q2**\n",
    "____\n",
    "Implement the multiplication of two N-bit numbers (using Divide and Conquer Strategy) and \n",
    "naive multiplication method. Compare these methods in terms of time taken using N-bit \n",
    "numbers where n=4, 8, 16, 32 and 64.\n",
    "______"
   ]
  },
  {
   "attachments": {},
   "cell_type": "markdown",
   "metadata": {},
   "source": [
    "### **N BIT MULTIPLICATION VS NAIVE BITWISE SHIFT MULTIPLICATION**"
   ]
  },
  {
   "attachments": {},
   "cell_type": "markdown",
   "metadata": {},
   "source": [
    "##### Importing all the modules redquired"
   ]
  },
  {
   "cell_type": "code",
   "execution_count": 178,
   "metadata": {},
   "outputs": [],
   "source": [
    "from time import time\n",
    "import numpy as np\n",
    "import pandas as pd\n",
    "import matplotlib.pyplot as plt"
   ]
  },
  {
   "attachments": {},
   "cell_type": "markdown",
   "metadata": {},
   "source": [
    "> #### **N BIT MULTIPLICATION**\n",
    "---"
   ]
  },
  {
   "cell_type": "code",
   "execution_count": 179,
   "metadata": {},
   "outputs": [],
   "source": [
    "def n_bit_multiply(A, B, n):\n",
    "    # Convert A and B to n-bit binary strings\n",
    "    A = bin(A)[2:].zfill(n)\n",
    "    B = bin(B)[2:].zfill(n)\n",
    "\n",
    "    # Divide A and B into two n/2-bit halves\n",
    "    A1 = int(A[:n//2], 2)\n",
    "    A0 = int(A[n//2:], 2)\n",
    "    B1 = int(B[:n//2], 2)\n",
    "    B0 = int(B[n//2:], 2)\n",
    "\n",
    "    # Compute the products of A1*B1, A1*B0, A0*B1, and A0*B0\n",
    "    P1 = A1 * B1\n",
    "    P2 = A1 * B0\n",
    "    P3 = A0 * B1\n",
    "    P4 = A0 * B0\n",
    "\n",
    "    # Compute the final product using the n-bit multiplication method formula\n",
    "    product = (P1 << n) + ((P2 + P3) << n//2) + P4\n",
    "\n",
    "    return product"
   ]
  },
  {
   "attachments": {},
   "cell_type": "markdown",
   "metadata": {},
   "source": [
    "> #### **NAIVE BITWISE SHIFTING MULTIPLICATION**\n",
    "---"
   ]
  },
  {
   "attachments": {},
   "cell_type": "markdown",
   "metadata": {},
   "source": [
    "##### _Note - We are not using the inbuilt \"*\" multiply operator of python as it is highly optimized and the time comes out to be neglegible_"
   ]
  },
  {
   "cell_type": "code",
   "execution_count": 180,
   "metadata": {},
   "outputs": [],
   "source": [
    "def naive_multiply(a,b):\n",
    "\n",
    "    product = 0\n",
    "    while b != 0:\n",
    "        if b & 1 == 1:\n",
    "            product += a\n",
    "        a <<= 1\n",
    "        b >>= 1\n",
    "    return product\n"
   ]
  },
  {
   "attachments": {},
   "cell_type": "markdown",
   "metadata": {},
   "source": [
    "**Storing the time taken by both methods**"
   ]
  },
  {
   "cell_type": "code",
   "execution_count": 181,
   "metadata": {},
   "outputs": [],
   "source": [
    "n_bit = []\n",
    "naive = []"
   ]
  },
  {
   "cell_type": "code",
   "execution_count": 182,
   "metadata": {},
   "outputs": [],
   "source": [
    "for i in [2,4,8,16,32,64]:\n",
    "    tik = time()\n",
    "    for p in range(1000):\n",
    "        n_bit_multiply(2**i-i,2**i-i,2*i)\n",
    "    toc = time()\n",
    "    n_bit.append(toc-tik)"
   ]
  },
  {
   "cell_type": "code",
   "execution_count": 183,
   "metadata": {},
   "outputs": [],
   "source": [
    "for i in [2,4,8,16,32,64]:\n",
    "    tik = time()\n",
    "    for p in range(1000):\n",
    "        naive_multiply(2**i-i,2**i-i)\n",
    "    toc = time()\n",
    "    naive.append(toc-tik)"
   ]
  },
  {
   "attachments": {},
   "cell_type": "markdown",
   "metadata": {},
   "source": [
    "**Creating DataFrame using Pandas DataFrame for easy plotting**"
   ]
  },
  {
   "cell_type": "code",
   "execution_count": 184,
   "metadata": {},
   "outputs": [],
   "source": [
    "my_arr = np.array([n_bit,naive]).transpose()\n",
    "my_index = np.array([2,4,8,16,32,64])\n",
    "my_col = np.array([\"N Bit Multiplication\", \"Naive Multiplication\"])"
   ]
  },
  {
   "cell_type": "code",
   "execution_count": 185,
   "metadata": {},
   "outputs": [],
   "source": [
    "df = pd.DataFrame(my_arr,index=my_index,columns=my_col)"
   ]
  },
  {
   "cell_type": "code",
   "execution_count": 186,
   "metadata": {},
   "outputs": [
    {
     "data": {
      "text/html": [
       "<div>\n",
       "<style scoped>\n",
       "    .dataframe tbody tr th:only-of-type {\n",
       "        vertical-align: middle;\n",
       "    }\n",
       "\n",
       "    .dataframe tbody tr th {\n",
       "        vertical-align: top;\n",
       "    }\n",
       "\n",
       "    .dataframe thead th {\n",
       "        text-align: right;\n",
       "    }\n",
       "</style>\n",
       "<table border=\"1\" class=\"dataframe\">\n",
       "  <thead>\n",
       "    <tr style=\"text-align: right;\">\n",
       "      <th></th>\n",
       "      <th>N Bit Multiplication</th>\n",
       "      <th>Naive Multiplication</th>\n",
       "    </tr>\n",
       "  </thead>\n",
       "  <tbody>\n",
       "    <tr>\n",
       "      <th>2</th>\n",
       "      <td>0.000961</td>\n",
       "      <td>0.000000</td>\n",
       "    </tr>\n",
       "    <tr>\n",
       "      <th>4</th>\n",
       "      <td>0.000997</td>\n",
       "      <td>0.000000</td>\n",
       "    </tr>\n",
       "    <tr>\n",
       "      <th>8</th>\n",
       "      <td>0.001002</td>\n",
       "      <td>0.000993</td>\n",
       "    </tr>\n",
       "    <tr>\n",
       "      <th>16</th>\n",
       "      <td>0.001025</td>\n",
       "      <td>0.001056</td>\n",
       "    </tr>\n",
       "    <tr>\n",
       "      <th>32</th>\n",
       "      <td>0.002063</td>\n",
       "      <td>0.002721</td>\n",
       "    </tr>\n",
       "    <tr>\n",
       "      <th>64</th>\n",
       "      <td>0.001593</td>\n",
       "      <td>0.005564</td>\n",
       "    </tr>\n",
       "  </tbody>\n",
       "</table>\n",
       "</div>"
      ],
      "text/plain": [
       "    N Bit Multiplication  Naive Multiplication\n",
       "2               0.000961              0.000000\n",
       "4               0.000997              0.000000\n",
       "8               0.001002              0.000993\n",
       "16              0.001025              0.001056\n",
       "32              0.002063              0.002721\n",
       "64              0.001593              0.005564"
      ]
     },
     "execution_count": 186,
     "metadata": {},
     "output_type": "execute_result"
    }
   ],
   "source": [
    "df"
   ]
  },
  {
   "cell_type": "code",
   "execution_count": 189,
   "metadata": {},
   "outputs": [
    {
     "data": {
      "text/plain": [
       "(0.0, 0.01)"
      ]
     },
     "execution_count": 189,
     "metadata": {},
     "output_type": "execute_result"
    },
    {
     "data": {
      "image/png": "[encoded data removed]",
      "text/plain": [
       "<Figure size 640x480 with 1 Axes>"
      ]
     },
     "metadata": {},
     "output_type": "display_data"
    }
   ],
   "source": [
    "df.plot(kind='bar')\n",
    "plt.ylim(0,0.01)"
   ]
  },
  {
   "attachments": {},
   "cell_type": "markdown",
   "metadata": {},
   "source": [
    "#### _Before 8 Bit Numbers, The time taken by Naive Method is neglegible but after that, The time taken by N Bit Multiplication is remarkabley less than Naive Multiplication_"
   ]
  },
  {
   "attachments": {},
   "cell_type": "markdown",
   "metadata": {},
   "source": [
    "---"
   ]
  }
 ],
 "metadata": {
  "kernelspec": {
   "display_name": "Python 3",
   "language": "python",
   "name": "python3"
  },
  "language_info": {
   "codemirror_mode": {
    "name": "ipython",
    "version": 3
   },
   "file_extension": ".py",
   "mimetype": "text/x-python",
   "name": "python",
   "nbconvert_exporter": "python",
   "pygments_lexer": "ipython3",
   "version": "3.11.2"
  },
  "orig_nbformat": 4
 },
 "nbformat": 4,
 "nbformat_minor": 2
}
