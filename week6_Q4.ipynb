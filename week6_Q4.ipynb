{
 "cells": [
  {
   "attachments": {},
   "cell_type": "markdown",
   "metadata": {},
   "source": [
    "> ### **STRONGLY CONNECTED COMPONENTS IN A GRAPH**"
   ]
  },
  {
   "attachments": {},
   "cell_type": "markdown",
   "metadata": {},
   "source": [
    "#### **Description**\n",
    "_____\n",
    "\n",
    "- The transpose_graph function creates a new graph where the directions of all edges in the original graph are reversed.\n",
    "\n",
    "- The find_strongly_connected_components function implements the `Kosaraju's algorithm`. It performs two DFS passes on the graph.\n",
    "\n",
    "- In the first pass, it performs DFS on the original graph and adds the nodes to a stack in the order of their finishing times.\n",
    "\n",
    "- The graph is then transposed using the `transpose_graph` function.\n",
    "\n",
    "- In the second pass, while there are nodes in the stack, it pops a node from the stack and performs `DFS` on the transposed graph starting from that node. Each DFS call in this pass generates a strongly connected component.\n",
    "\n",
    "- The function returns a list of strongly connected components.\n",
    "\n",
    "- Finally, the strongly connected components are printed."
   ]
  },
  {
   "cell_type": "code",
   "execution_count": 1,
   "metadata": {},
   "outputs": [],
   "source": [
    "from collections import defaultdict\n",
    "\n",
    "def dfs(graph, node, visited, stack):\n",
    "    visited.add(node)\n",
    "    for neighbor in graph[node]:\n",
    "        if neighbor not in visited:\n",
    "            dfs(graph, neighbor, visited, stack)\n",
    "    stack.append(node)\n",
    "\n",
    "def transpose_graph(graph):\n",
    "    transposed = defaultdict(list)\n",
    "    for node in graph:\n",
    "        for neighbor in graph[node]:\n",
    "            transposed[neighbor].append(node)\n",
    "    return transposed\n",
    "\n",
    "def find_strongly_connected_components(graph):\n",
    "    visited = set()\n",
    "    stack = []\n",
    "    for node in graph:\n",
    "        if node not in visited:\n",
    "            dfs(graph, node, visited, stack)\n",
    "    transposed_graph = transpose_graph(graph)\n",
    "    visited.clear()\n",
    "    components = []\n",
    "    while stack:\n",
    "        node = stack.pop()\n",
    "        if node not in visited:\n",
    "            component = []\n",
    "            dfs(transposed_graph, node, visited, component)\n",
    "            components.append(component)\n",
    "    return components"
   ]
  },
  {
   "cell_type": "code",
   "execution_count": 2,
   "metadata": {},
   "outputs": [
    {
     "name": "stdout",
     "output_type": "stream",
     "text": [
      "Strongly Connected Components:\n",
      "['B', 'C', 'A']\n",
      "['D']\n",
      "['G', 'F', 'E']\n",
      "['H']\n",
      "['I']\n"
     ]
    }
   ],
   "source": [
    "# Example graph representation using an adjacency list\n",
    "graph = {\n",
    "    'A': ['B'],\n",
    "    'B': ['C', 'D'],\n",
    "    'C': ['A', 'E'],\n",
    "    'D': ['F'],\n",
    "    'E': ['G'],\n",
    "    'F': ['E', 'H'],\n",
    "    'G': ['F'],\n",
    "    'H': ['I'],\n",
    "    'I': []\n",
    "}\n",
    "\n",
    "print(\"Strongly Connected Components:\")\n",
    "components = find_strongly_connected_components(graph)\n",
    "for component in components:\n",
    "    print(component)"
   ]
  }
 ],
 "metadata": {
  "kernelspec": {
   "display_name": "Python 3",
   "language": "python",
   "name": "python3"
  },
  "language_info": {
   "codemirror_mode": {
    "name": "ipython",
    "version": 3
   },
   "file_extension": ".py",
   "mimetype": "text/x-python",
   "name": "python",
   "nbconvert_exporter": "python",
   "pygments_lexer": "ipython3",
   "version": "3.11.2"
  },
  "orig_nbformat": 4
 },
 "nbformat": 4,
 "nbformat_minor": 2
}
