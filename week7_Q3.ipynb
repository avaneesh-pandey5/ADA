{
 "cells": [
  {
   "attachments": {},
   "cell_type": "markdown",
   "metadata": {},
   "source": [
    "> ### **IMPLEMENTING DIJKSTRA'S ALGORITHM**"
   ]
  },
  {
   "attachments": {},
   "cell_type": "markdown",
   "metadata": {},
   "source": [
    "#### **Description**\n",
    "_____\n",
    "\n",
    "The `dijkstra` `function` takes the graph and the source node as input and returns a dictionary containing the shortest distances from the source node to all other nodes.\n",
    "\n",
    "It initializes a distances dictionary, where each node is initially assigned a distance of infinity except for the source node, which is assigned a distance of 0.\n",
    "\n",
    "It maintains a `min-heap` called `min_heap` to store the nodes with their corresponding distances.\n",
    "\n",
    "The algorithm starts by pushing the source node with a distance of 0 into the `min-heap`.\n",
    "\n",
    "While the `min-heap` is not empty, the algorithm pops the node with the minimum distance from the `min-heap`.\n",
    "\n",
    "If the popped distance is greater than the distance already stored for that node in the distances dictionary, it means that a shorter path to that node has already been found, so we skip further processing for that node.\n",
    "\n",
    "For each neighbor of the current node, the algorithm calculates the distance by adding the weight of the edge to the current distance.\n",
    "\n",
    "If the calculated distance is smaller than the current distance stored for the neighbor, it updates the distance in the distances dictionary and pushes the neighbor with the new distance into the min-heap.\n",
    "\n",
    "The process continues until all nodes are processed.\n",
    "\n",
    "Finally, the distances dictionary is returned, containing the shortest distances from the source node to all other nodes."
   ]
  },
  {
   "cell_type": "code",
   "execution_count": 1,
   "metadata": {},
   "outputs": [],
   "source": [
    "import heapq\n",
    "\n",
    "def dijkstra(graph, source):\n",
    "    distances = {node: float('inf') for node in graph}\n",
    "    distances[source] = 0\n",
    "\n",
    "    min_heap = [(0, source)]\n",
    "    while min_heap:\n",
    "        current_distance, current_node = heapq.heappop(min_heap)\n",
    "        if current_distance > distances[current_node]:\n",
    "            continue\n",
    "        for neighbor, weight in graph[current_node]:\n",
    "            distance = current_distance + weight\n",
    "            if distance < distances[neighbor]:\n",
    "                distances[neighbor] = distance\n",
    "                heapq.heappush(min_heap, (distance, neighbor))\n",
    "\n",
    "    return distances"
   ]
  },
  {
   "cell_type": "code",
   "execution_count": 3,
   "metadata": {},
   "outputs": [
    {
     "name": "stdout",
     "output_type": "stream",
     "text": [
      "Shortest distances from node A to other nodes:\n",
      "Node: A Distance: 0\n",
      "Node: B Distance: 4\n",
      "Node: C Distance: 2\n",
      "Node: D Distance: 9\n"
     ]
    }
   ],
   "source": [
    "# Example graph representation using an adjacency list\n",
    "graph = {\n",
    "    'A': [('B', 4), ('C', 2)],\n",
    "    'B': [('C', 1), ('D', 5)],\n",
    "    'C': [('D', 8)],\n",
    "    'D': []\n",
    "}\n",
    "\n",
    "source_node = 'A'\n",
    "distances = dijkstra(graph, source_node)\n",
    "\n",
    "print(\"Shortest distances from node\", source_node, \"to other nodes:\")\n",
    "for node, distance in distances.items():\n",
    "    print(\"Node:\", node, \"Distance:\", distance)\n"
   ]
  }
 ],
 "metadata": {
  "kernelspec": {
   "display_name": "Python 3",
   "language": "python",
   "name": "python3"
  },
  "language_info": {
   "codemirror_mode": {
    "name": "ipython",
    "version": 3
   },
   "file_extension": ".py",
   "mimetype": "text/x-python",
   "name": "python",
   "nbconvert_exporter": "python",
   "pygments_lexer": "ipython3",
   "version": "3.11.2"
  },
  "orig_nbformat": 4
 },
 "nbformat": 4,
 "nbformat_minor": 2
}
