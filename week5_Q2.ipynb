{
 "cells": [
  {
   "attachments": {},
   "cell_type": "markdown",
   "metadata": {},
   "source": [
    "> ### **IMPLEMENTING OPTICAL BINARY SEARCH TREE PROBLEM**"
   ]
  },
  {
   "attachments": {},
   "cell_type": "markdown",
   "metadata": {},
   "source": [
    "##### Optimal Binary Search Tree (OBST) is a dynamic programming algorithm that determines the minimum expected search cost for a given set of keys and their frequencies.\n",
    "---"
   ]
  },
  {
   "attachments": {},
   "cell_type": "markdown",
   "metadata": {},
   "source": [
    "#### **Description**\n",
    "\n",
    "- The algorithm uses a bottom-up dynamic programming approach. \n",
    "\n",
    "- It iterates over the range of lengths from 2 to n and fills the table diagonally.\n",
    "\n",
    "- The diagonal entries of the table `dp[i][i]` are filled with the frequencies or probabilities of the individual keys.\n",
    "\n",
    "- The algorithm then iterates over the possible lengths and fills the table for each length.\n",
    "\n",
    "- For each subproblem with length length, it considers all possible ranges within the array.\n",
    "\n",
    "- For each range `[i, j]`, it calculates the sum of frequencies freq_sum within that range.\n",
    "\n",
    "- Then, it tries all possible roots within the range and calculates the cost of the subtree using the formula $dp[i][r - 1] + dp[r + 1][j] + freq_sum$. The cost represents the sum of costs for the left subtree, right subtree, and the current root.\n",
    "\n",
    "- The algorithm updates the minimum cost for the current range using $dp[i][j] = min(dp[i][j], cost)$.\n",
    "\n",
    "- After completing the iteration, the entry `dp[0][n - 1]` contains the cost of the optimal BST.\n",
    "\n",
    "- The algorithm returns `dp[0][n - 1]` as the result."
   ]
  },
  {
   "cell_type": "code",
   "execution_count": 3,
   "metadata": {},
   "outputs": [],
   "source": [
    "def optimal_bst(keys, frequencies):\n",
    "    n = len(keys)\n",
    "\n",
    "    # Create a 2D table to store the costs\n",
    "    dp = [[0] * n for _ in range(n+1)]\n",
    "\n",
    "    # Fill the diagonal entries with the frequencies\n",
    "    for i in range(n):\n",
    "        dp[i][i] = frequencies[i]\n",
    "\n",
    "    # Fill the table diagonally\n",
    "    for length in range(2, n + 1):\n",
    "        for i in range(n - length + 1):\n",
    "            j = i + length - 1\n",
    "            dp[i][j] = float('inf')\n",
    "            freq_sum = sum(frequencies[i:j+1])\n",
    "\n",
    "            # Try all possible roots in the current range\n",
    "            for r in range(i, j + 1):\n",
    "                cost = dp[i][r - 1] + dp[r + 1][j] + freq_sum\n",
    "                dp[i][j] = min(dp[i][j], cost)\n",
    "\n",
    "    # Return the cost of the optimal BST\n",
    "    return dp[0][n - 1]"
   ]
  },
  {
   "cell_type": "code",
   "execution_count": 4,
   "metadata": {},
   "outputs": [
    {
     "name": "stdout",
     "output_type": "stream",
     "text": [
      "Cost of the optimal BST: 29\n"
     ]
    }
   ],
   "source": [
    "keys = [10, 20, 30, 40, 50]\n",
    "frequencies = [4, 2, 6, 3, 1]\n",
    "\n",
    "result = optimal_bst(keys, frequencies)\n",
    "print(\"Cost of the optimal BST:\", result)"
   ]
  },
  {
   "attachments": {},
   "cell_type": "markdown",
   "metadata": {},
   "source": [
    "> #### **Time Complexity**\n",
    "_____\n",
    "Since the loop traverses the upper triangular matrix of the DP Table created, the time complexity would be $O(n^3)$"
   ]
  }
 ],
 "metadata": {
  "kernelspec": {
   "display_name": "Python 3",
   "language": "python",
   "name": "python3"
  },
  "language_info": {
   "codemirror_mode": {
    "name": "ipython",
    "version": 3
   },
   "file_extension": ".py",
   "mimetype": "text/x-python",
   "name": "python",
   "nbconvert_exporter": "python",
   "pygments_lexer": "ipython3",
   "version": "3.11.2"
  },
  "orig_nbformat": 4
 },
 "nbformat": 4,
 "nbformat_minor": 2
}
