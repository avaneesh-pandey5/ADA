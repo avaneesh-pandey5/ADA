{
 "cells": [
  {
   "attachments": {},
   "cell_type": "markdown",
   "metadata": {},
   "source": [
    "#### **AVANEESH PANDEY**\n",
    " **07619011921**\\\n",
    " **AI-DS B2** *- A*\n",
    "\n",
    " ___"
   ]
  },
  {
   "attachments": {},
   "cell_type": "markdown",
   "metadata": {},
   "source": [
    "> ### **IMPLEMENTING LCS (LONGEST COMMON SUBSEQUENCE)**"
   ]
  },
  {
   "attachments": {},
   "cell_type": "markdown",
   "metadata": {},
   "source": [
    "\n",
    "#### The `LCS (Longest Common Subsequence)` algorithm is a classic dynamic programming algorithm used to find the length or the actual sequence of the longest common subsequence between two sequences.\n",
    "___"
   ]
  },
  {
   "attachments": {},
   "cell_type": "markdown",
   "metadata": {},
   "source": [
    "#### **Description**\n",
    "\n",
    "- Initialize a matrix of size $(m+1) * (n+1)$ with zeros.\n",
    "\n",
    "- Iterate through each cell of the matrix, starting from the top-left corner.\n",
    "\n",
    "- If the corresponding elements in sequence $A$ and sequence $B$ are equal, set the value of the current cell to the value in the top-left diagonal cell plus. Otherwise, set the value of the current cell to the maximum value of the cell above or the cell to the left.\n",
    "\n",
    "- After filling the entire matrix, the bottom-right cell will contain the length of the longest common subsequence.\n",
    "\n",
    "---"
   ]
  },
  {
   "cell_type": "code",
   "execution_count": 17,
   "metadata": {},
   "outputs": [],
   "source": [
    "import numpy as np"
   ]
  },
  {
   "cell_type": "code",
   "execution_count": 18,
   "metadata": {},
   "outputs": [],
   "source": [
    "def longest_common_subsequence_length(A, B):\n",
    "    m = len(A)\n",
    "    n = len(B)\n",
    "\n",
    "    # Create a matrix filled with zeros\n",
    "    matrix = np.zeros((m+1,n+1))\n",
    "\n",
    "    # Fill the matrix\n",
    "    for i in range(1, m+1):\n",
    "        for j in range(1, n+1):\n",
    "            if A[i-1] == B[j-1]:\n",
    "                matrix[i][j] = matrix[i-1][j-1] + 1\n",
    "            else:\n",
    "                matrix[i][j] = max(matrix[i-1][j], matrix[i][j-1])\n",
    "\n",
    "    # Return the length of the longest common subsequence\n",
    "    return int(matrix[m][n])\n"
   ]
  },
  {
   "cell_type": "code",
   "execution_count": 19,
   "metadata": {},
   "outputs": [
    {
     "name": "stdout",
     "output_type": "stream",
     "text": [
      "Length of the longest common subsequence: 3\n"
     ]
    }
   ],
   "source": [
    "A = [1, 2, 3, 4, 5]\n",
    "B = [2, 3, 4, 6, 8]\n",
    "\n",
    "length = longest_common_subsequence_length(A, B)\n",
    "print(\"Length of the longest common subsequence:\", length)"
   ]
  },
  {
   "attachments": {},
   "cell_type": "markdown",
   "metadata": {},
   "source": [
    "___"
   ]
  },
  {
   "attachments": {},
   "cell_type": "markdown",
   "metadata": {},
   "source": [
    "#### **`TIME COMPLEXITY :`** The time taking part of the LCS function is the Nested loops and the Nested loops are running through each of the cells of the matrix which has a dimension of \n",
    "#### $$ (m+1) * (n+1) $$\n",
    "#### Thus the time complexity of the LCS Function would be \n",
    "#### $$ O(mn) $$\n",
    "---"
   ]
  },
  {
   "attachments": {},
   "cell_type": "markdown",
   "metadata": {},
   "source": [
    "#### **`SPACE COMPLEXITY :`** The Code creates a matrix of size $ (m+1) * (n+1) $ to store the results\n",
    "#### Thus the space complexity would be $$O(mn)$$\n",
    "___"
   ]
  }
 ],
 "metadata": {
  "kernelspec": {
   "display_name": "Python 3",
   "language": "python",
   "name": "python3"
  },
  "language_info": {
   "codemirror_mode": {
    "name": "ipython",
    "version": 3
   },
   "file_extension": ".py",
   "mimetype": "text/x-python",
   "name": "python",
   "nbconvert_exporter": "python",
   "pygments_lexer": "ipython3",
   "version": "3.11.2"
  },
  "orig_nbformat": 4
 },
 "nbformat": 4,
 "nbformat_minor": 2
}
