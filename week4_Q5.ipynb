{
 "cells": [
  {
   "attachments": {},
   "cell_type": "markdown",
   "metadata": {},
   "source": [
    "> ### **IMPLEMENTING LONGEST CONVEX SUBSEQUENCE**"
   ]
  },
  {
   "attachments": {},
   "cell_type": "markdown",
   "metadata": {},
   "source": [
    "\n",
    "##### The Longest Convex Subsequence refers to a subsequence of a given sequence in the order $B[1 .. l]$ is convex if $B[i] − B[i − 1] > B[i − 1] − B[i − 2]$, and the subsequence is of maximum length.\n",
    "___"
   ]
  },
  {
   "attachments": {},
   "cell_type": "markdown",
   "metadata": {},
   "source": [
    "#### **Description**\n",
    "\n",
    "- First, the length of the array is checked. If the length is less than $3$, the length of the array itself is returned as the longest convex subsequence length.\n",
    "\n",
    "- The algorithm initializes the longest convex subsequence length to $2$, as a convex subsequence requires at least three elements.\n",
    "\n",
    "- Next, the algorithm iterates through each element in the array as the potential starting point of a convex subsequence.\n",
    "\n",
    "- For each starting element at index $i$, the algorithm initializes the current convex subsequence length to $2$.\n",
    "\n",
    "- The algorithm then checks all subsequent elements from index $i+2$ to the end of the array.\n",
    "\n",
    "- For each subsequent element at index $j$, the algorithm compares the difference between `arr[j] - arr[j-1]` with the previous difference arr`[j-1] - arr[j-2]`.\n",
    "\n",
    "- If the current difference `arr[j] - arr[j-1]` is greater than the previous difference `arr[j-1] - arr[j-2]`, it satisfies the convex condition.\n",
    "\n",
    "- In such cases, the algorithm increments the length of the convex subsequence by $1$ and updates the previous difference to the current difference.\n",
    "\n",
    "- After checking all subsequent elements for convexity, the algorithm keeps track of the maximum length of the convex subsequence encountered so far.\n",
    "\n",
    "- Finally, the algorithm returns the maximum length of the convex subsequence as the result.\n",
    "---"
   ]
  },
  {
   "cell_type": "code",
   "execution_count": 1,
   "metadata": {},
   "outputs": [],
   "source": [
    "def longest_convex_subsequence(arr):\n",
    "    n = len(arr)\n",
    "    if n < 3:\n",
    "        return n\n",
    "\n",
    "    # Initialize the longest convex subsequence length to 2 (minimum possible length)\n",
    "    max_length = 2\n",
    "\n",
    "    # Iterate through each element as the starting point of a convex subsequence\n",
    "    for i in range(n - 2):\n",
    "        # Initialize the current convex subsequence length to 2\n",
    "        length = 2\n",
    "        prev_diff = arr[i + 1] - arr[i]\n",
    "        # Check all subsequent elements for convexity\n",
    "        for j in range(i + 2, n):\n",
    "            diff = arr[j] - arr[j - 1]\n",
    "            if diff > prev_diff:\n",
    "                # If the difference satisfies the convex condition, increment the length\n",
    "                length += 1\n",
    "                prev_diff = diff\n",
    "        max_length = max(max_length, length)\n",
    "\n",
    "    return max_length"
   ]
  },
  {
   "cell_type": "code",
   "execution_count": 2,
   "metadata": {},
   "outputs": [
    {
     "name": "stdout",
     "output_type": "stream",
     "text": [
      "Longest Convex Subsequence: 5\n"
     ]
    }
   ],
   "source": [
    "sequence = [3, 1, 4, 1, 5, 9, 2, 6, 5, 3, 5, 8, 9, 7, 9, 3, 2, 3, 8, 4, 6, 2, 7]\n",
    "lis = longest_convex_subsequence(sequence)\n",
    "print(\"Longest Convex Subsequence:\", lis)\n"
   ]
  },
  {
   "attachments": {},
   "cell_type": "markdown",
   "metadata": {},
   "source": [
    "___"
   ]
  },
  {
   "attachments": {},
   "cell_type": "markdown",
   "metadata": {},
   "source": [
    "> #### **`TIME COMPLEXITY :`**\n",
    "- The algorithm uses two nested for loops to iterate through each element in the list and compare it with all the previous elements in the list.\n",
    "- The outer loop runs $n$ times where $n$ is the length of the list given.\n",
    "- The inner loop runs $i$ times for $i$ being each iteration of the outer loop.\n",
    "- Hence the total number of comparisons made by the algorithm is roughly $$(n-1) + (n-2) + ... + 1$$ $$n * (n-1) \\over 2$$\n",
    "- Therefore the time complexity of the algorithm is $$ O(n^2) $$\n",
    "---"
   ]
  },
  {
   "attachments": {},
   "cell_type": "markdown",
   "metadata": {},
   "source": [
    "> #### **`SPACE COMPLEXITY :`**\n",
    "- The algorithm uses additional space to store the $lis_lengths$ list, which has the same length as the input list $arr$.\n",
    "- Hence, the space complexity of the algorithm is $$O(n)$$\n",
    "___"
   ]
  }
 ],
 "metadata": {
  "kernelspec": {
   "display_name": "Python 3",
   "language": "python",
   "name": "python3"
  },
  "language_info": {
   "codemirror_mode": {
    "name": "ipython",
    "version": 3
   },
   "file_extension": ".py",
   "mimetype": "text/x-python",
   "name": "python",
   "nbconvert_exporter": "python",
   "pygments_lexer": "ipython3",
   "version": "3.11.2"
  },
  "orig_nbformat": 4
 },
 "nbformat": 4,
 "nbformat_minor": 2
}
