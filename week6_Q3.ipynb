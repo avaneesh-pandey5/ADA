{
 "cells": [
  {
   "attachments": {},
   "cell_type": "markdown",
   "metadata": {},
   "source": [
    "> ### **IMPLEMENTING TOPOLOGIAL SORTING**"
   ]
  },
  {
   "attachments": {},
   "cell_type": "markdown",
   "metadata": {},
   "source": [
    "#### **Description**\n",
    "_____\n",
    "\n",
    "- It initializes a set called visited to keep track of `visited` `nodes` and a stack to store the `topological` ordering.\n",
    "\n",
    "- The dfs function is a helper function that performs a `depth-first search (DFS)` starting from a given node.\n",
    "\n",
    "- Inside the dfs function, the current node is marked as `visited`, and for each `unvisited` neighbor, the `dfs` function is `recursively` called.\n",
    "\n",
    "- After exploring all the neighbors, the current node is pushed onto the stack.\n",
    "\n",
    "- In the main function, the `topological_sort` function iterates over all the nodes in the graph.\n",
    "\n",
    "- If a node is `not` `visited`, the `dfs` function is called for that `node`.\n",
    "\n",
    "- Finally, the `stack` is `reversed` to obtain the `topological` `sorting` `order`.\n",
    "\n",
    "- The resulting topological ordering is then printed."
   ]
  },
  {
   "cell_type": "code",
   "execution_count": 1,
   "metadata": {},
   "outputs": [],
   "source": [
    "from collections import defaultdict\n",
    "\n",
    "def topological_sort(graph):\n",
    "    visited = set()\n",
    "    stack = []\n",
    "\n",
    "    def dfs(node):\n",
    "        visited.add(node)\n",
    "        for neighbor in graph[node]:\n",
    "            if neighbor not in visited:\n",
    "                dfs(neighbor)\n",
    "        stack.append(node)\n",
    "\n",
    "    for node in graph:\n",
    "        if node not in visited:\n",
    "            dfs(node)\n",
    "\n",
    "    return stack[::-1]"
   ]
  },
  {
   "cell_type": "code",
   "execution_count": 2,
   "metadata": {},
   "outputs": [
    {
     "name": "stdout",
     "output_type": "stream",
     "text": [
      "Topological sorting order:\n",
      "A C E B D F "
     ]
    }
   ],
   "source": [
    "# Example graph representation using an adjacency list\n",
    "graph = {\n",
    "    'A': ['B', 'C'],\n",
    "    'B': ['D'],\n",
    "    'C': ['D', 'E'],\n",
    "    'D': ['F'],\n",
    "    'E': ['F'],\n",
    "    'F': []\n",
    "}\n",
    "\n",
    "print(\"Topological sorting order:\")\n",
    "result = topological_sort(graph)\n",
    "for node in result:\n",
    "    print(node, end=\" \")\n"
   ]
  }
 ],
 "metadata": {
  "kernelspec": {
   "display_name": "Python 3",
   "language": "python",
   "name": "python3"
  },
  "language_info": {
   "codemirror_mode": {
    "name": "ipython",
    "version": 3
   },
   "file_extension": ".py",
   "mimetype": "text/x-python",
   "name": "python",
   "nbconvert_exporter": "python",
   "pygments_lexer": "ipython3",
   "version": "3.11.2"
  },
  "orig_nbformat": 4
 },
 "nbformat": 4,
 "nbformat_minor": 2
}
