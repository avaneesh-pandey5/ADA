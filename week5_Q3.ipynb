{
 "cells": [
  {
   "attachments": {},
   "cell_type": "markdown",
   "metadata": {},
   "source": [
    "> ### **IMPLEMENTING 0/1 KNAPSACK PROBLEM**"
   ]
  },
  {
   "attachments": {},
   "cell_type": "markdown",
   "metadata": {},
   "source": [
    "##### The 0/1 Knapsack problem involves selecting items with specific weights and values to maximize the total value while ensuring that the combined weight does not exceed a given capacity. The provided code uses dynamic programming to solve this problem, and the sample input demonstrates how to find the maximum value for a specific set of weights, values, and capacity.\n",
    "\n",
    "---"
   ]
  },
  {
   "cell_type": "code",
   "execution_count": 1,
   "metadata": {},
   "outputs": [],
   "source": [
    "def knapsack_01(weights, values, capacity):\n",
    "    n = len(weights)\n",
    "\n",
    "    # Create a 2D table to store the maximum values\n",
    "    dp = [[0] * (capacity + 1) for _ in range(n + 1)]\n",
    "\n",
    "    # Fill the table using bottom-up approach\n",
    "    for i in range(1, n + 1):\n",
    "        for w in range(1, capacity + 1):\n",
    "            # Check if the current item can be included\n",
    "            if weights[i - 1] <= w:\n",
    "                # Calculate the maximum value by including or excluding the item\n",
    "                dp[i][w] = max(values[i - 1] + dp[i - 1][w - weights[i - 1]], dp[i - 1][w])\n",
    "            else:\n",
    "                # Exclude the item as its weight exceeds the capacity\n",
    "                dp[i][w] = dp[i - 1][w]\n",
    "\n",
    "    # Return the maximum value achievable\n",
    "    return dp[n][capacity]"
   ]
  },
  {
   "cell_type": "code",
   "execution_count": 2,
   "metadata": {},
   "outputs": [
    {
     "name": "stdout",
     "output_type": "stream",
     "text": [
      "Maximum value: 9\n"
     ]
    }
   ],
   "source": [
    "weights = [1, 3, 4, 5]\n",
    "values = [1, 4, 5, 7]\n",
    "capacity = 7\n",
    "\n",
    "result = knapsack_01(weights, values, capacity)\n",
    "print(\"Maximum value:\", result)"
   ]
  },
  {
   "attachments": {},
   "cell_type": "markdown",
   "metadata": {},
   "source": [
    "> #### **Time Complexity**\n",
    "_____\n",
    "Since the loop traverses the 2D DP Table created, the time complexity would be $O(n^2)$"
   ]
  }
 ],
 "metadata": {
  "kernelspec": {
   "display_name": "Python 3",
   "language": "python",
   "name": "python3"
  },
  "language_info": {
   "codemirror_mode": {
    "name": "ipython",
    "version": 3
   },
   "file_extension": ".py",
   "mimetype": "text/x-python",
   "name": "python",
   "nbconvert_exporter": "python",
   "pygments_lexer": "ipython3",
   "version": "3.11.2"
  },
  "orig_nbformat": 4
 },
 "nbformat": 4,
 "nbformat_minor": 2
}
